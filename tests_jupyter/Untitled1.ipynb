{
 "cells": [
  {
   "cell_type": "code",
   "execution_count": 1,
   "id": "bf9c5181-f3b2-4a6e-84ba-369fb94e0404",
   "metadata": {},
   "outputs": [],
   "source": [
    "import chromadb\n",
    "from chromadb.config import Settings"
   ]
  },
  {
   "cell_type": "code",
   "execution_count": 5,
   "id": "53e8bf17-313d-493a-94ee-630f32946cfe",
   "metadata": {},
   "outputs": [],
   "source": [
    "client = chromadb.PersistentClient(path=\"my_chroma_db\")"
   ]
  },
  {
   "cell_type": "code",
   "execution_count": 6,
   "id": "01406650-8a7a-4e9b-877b-6a6d44a47efc",
   "metadata": {},
   "outputs": [
    {
     "data": {
      "text/plain": [
       "1706461402453515100"
      ]
     },
     "execution_count": 6,
     "metadata": {},
     "output_type": "execute_result"
    }
   ],
   "source": [
    "client.heartbeat()"
   ]
  },
  {
   "cell_type": "code",
   "execution_count": 11,
   "id": "307353f4-6b5b-43ee-8437-2c9cce0d189d",
   "metadata": {},
   "outputs": [
    {
     "data": {
      "text/plain": [
       "[Collection(name=my_blogs)]"
      ]
     },
     "execution_count": 11,
     "metadata": {},
     "output_type": "execute_result"
    }
   ],
   "source": [
    "client.list_collections()"
   ]
  },
  {
   "cell_type": "code",
   "execution_count": 10,
   "id": "7db29cd6-fff5-4f0a-975b-e42ecb73b571",
   "metadata": {},
   "outputs": [
    {
     "data": {
      "text/plain": [
       "Collection(name=my_blogs)"
      ]
     },
     "execution_count": 10,
     "metadata": {},
     "output_type": "execute_result"
    }
   ],
   "source": [
    "client.create_collection(\"my_blogs\")"
   ]
  },
  {
   "cell_type": "code",
   "execution_count": 12,
   "id": "51235b99-aa6d-464b-a8fb-155c902bf3a4",
   "metadata": {},
   "outputs": [],
   "source": [
    "my_blogs=client.get_collection(\"my_blogs\")"
   ]
  },
  {
   "cell_type": "code",
   "execution_count": 13,
   "id": "5ff3df46-07b7-4e3d-a87d-96ab71f6e7e0",
   "metadata": {},
   "outputs": [],
   "source": [
    "text='''\n",
    "Introduction:\n",
    "In the realm of space exploration, India continues to make impressive strides with its ambitious space program. Following the success of Chandrayaan-2, the Indian Space Research Organisation (ISRO) is gearing up for its next lunar mission – Chandrayaan-3. Building upon the achievements and lessons learned from its predecessors, Chandrayaan-3 promises to be another significant milestone in India's pursuit of unraveling the mysteries of the Moon.\n",
    "\n",
    "Background:\n",
    "Chandrayaan-3 is the third mission in the Chandrayaan series, which began with the launch of Chandrayaan-1 in 2008. The primary objective of these missions is to explore the Moon and enhance our understanding of its geological and topographical features. Chandrayaan-2, launched in 2019, was a groundbreaking mission that included an orbiter, lander, and rover, showcasing India's technological prowess.\n",
    "\n",
    "Key Features and Goals:\n",
    "Chandrayaan-3 is expected to focus on achieving a successful lunar landing, learning from the challenges faced during Chandrayaan-2's Vikram lander descent. The mission is likely to consist of an orbiter and a lander, omitting the rover component to streamline the mission and increase the probability of a successful touchdown.\n",
    "\n",
    "The lunar south pole region is of particular interest due to its unique characteristics, including permanently shadowed craters that might contain water ice. Exploring this area could hold clues to the Moon's geological history and offer insights into the possibilities of utilizing lunar resources for future space exploration endeavors.\n",
    "\n",
    "Collaborative Efforts:\n",
    "ISRO has a history of collaborating with international space agencies and organizations, and Chandrayaan-3 is no exception. The mission is expected to leverage global expertise and resources to enhance its chances of success. Collaborations can range from sharing scientific instruments to seeking advice on mission planning and execution.\n",
    "\n",
    "Technological Advancements:\n",
    "Chandrayaan-3 is likely to incorporate advancements in technology and engineering, capitalizing on the lessons learned from previous missions. Improved navigation systems, enhanced communication capabilities, and upgraded scientific instruments are anticipated to be part of the mission's technological arsenal.\n",
    "\n",
    "Timeline and Launch:\n",
    "While the exact launch date is yet to be announced, reports suggest that Chandrayaan-3 is in the advanced stages of planning. ISRO aims to build upon its past achievements and overcome challenges to establish India as a prominent player in lunar exploration.\n",
    "\n",
    "Conclusion:\n",
    "Chandrayaan-3 represents another exciting chapter in India's space exploration journey. As the nation continues to push the boundaries of scientific discovery and technological innovation, the success of this mission will not only contribute to our understanding of the Moon but also pave the way for future ambitious endeavors in space exploration. As the global space community eagerly awaits the launch, Chandrayaan-3 stands as a testament to India's commitment to expanding the frontiers of human knowledge and exploration beyond our home planet.\n",
    "'''"
   ]
  },
  {
   "cell_type": "code",
   "execution_count": 14,
   "id": "2d1411ca-5fbb-44b8-82ca-59edf1cc26c9",
   "metadata": {},
   "outputs": [
    {
     "name": "stderr",
     "output_type": "stream",
     "text": [
      "C:\\Users\\vivek chouhan\\.cache\\chroma\\onnx_models\\all-MiniLM-L6-v2\\onnx.tar.gz: 100%|█████████████████████████| 79.3M/79.3M [00:20<00:00, 4.00MiB/s]\n"
     ]
    }
   ],
   "source": [
    "my_blogs.add(\n",
    "    ids=['1'],\n",
    "    documents=[text],\n",
    "    metadatas=[{'category':'space'}]\n",
    ")"
   ]
  },
  {
   "cell_type": "code",
   "execution_count": 15,
   "id": "267e7dd1-fdd4-41d8-b3f1-caa02a0c0769",
   "metadata": {},
   "outputs": [],
   "source": [
    "text='''\n",
    "Introduction:\n",
    "In the realm of cricket, few names resonate as strongly as Virat Kohli's. The Indian skipper has not only redefined the art of batting but has also become a symbol of passion, determination, and leadership in the world of sports. In this short blog, let's delve into the remarkable journey of Virat Kohli, the maestro of modern cricket.\n",
    "\n",
    "Early Days and Rise to Stardom:\n",
    "Virat Kohli, born on November 5, 1988, in Delhi, showed early signs of cricketing prowess. His meteoric rise through the ranks of age-group cricket and stellar performances for the Indian Under-19 team laid the foundation for what would become an illustrious career.\n",
    "\n",
    "Master of Chases:\n",
    "Kohli's batting style is marked by exquisite timing, remarkable shot selection, and an insatiable hunger for runs. His ability to chase down targets, especially in pressure situations, has earned him the moniker \"Chase Master.\" Kohli's knack for converting starts into big scores has made him a mainstay in the Indian batting lineup across formats.\n",
    "\n",
    "Captaincy and Leadership:\n",
    "Taking over the captaincy reins from MS Dhoni, Kohli brought a new level of intensity and aggression to the\n",
    "'''"
   ]
  },
  {
   "cell_type": "code",
   "execution_count": 16,
   "id": "dd19f412-363a-4174-9c00-54e32e86d9d1",
   "metadata": {},
   "outputs": [],
   "source": [
    "my_blogs.add(\n",
    "    ids=['2'],\n",
    "    documents=[text],\n",
    "    metadatas=[{'category':'sports'}]\n",
    ")"
   ]
  },
  {
   "cell_type": "code",
   "execution_count": 23,
   "id": "834d7ac3-1c80-43c5-9db5-6965f9842450",
   "metadata": {},
   "outputs": [
    {
     "name": "stderr",
     "output_type": "stream",
     "text": [
      "Number of requested results 10 is greater than number of elements in index 2, updating n_results = 2\n"
     ]
    },
    {
     "data": {
      "text/plain": [
       "2"
      ]
     },
     "execution_count": 23,
     "metadata": {},
     "output_type": "execute_result"
    }
   ],
   "source": [
    "len(my_blogs.query(\n",
    "query_texts=['space'],include=['embeddings']\n",
    ")['embeddings'][0])"
   ]
  },
  {
   "cell_type": "code",
   "execution_count": null,
   "id": "b748fccb-a3d6-4acc-b6f8-8e7370aee873",
   "metadata": {},
   "outputs": [],
   "source": []
  }
 ],
 "metadata": {
  "kernelspec": {
   "display_name": "Python 3 (ipykernel)",
   "language": "python",
   "name": "python3"
  },
  "language_info": {
   "codemirror_mode": {
    "name": "ipython",
    "version": 3
   },
   "file_extension": ".py",
   "mimetype": "text/x-python",
   "name": "python",
   "nbconvert_exporter": "python",
   "pygments_lexer": "ipython3",
   "version": "3.11.5"
  }
 },
 "nbformat": 4,
 "nbformat_minor": 5
}
